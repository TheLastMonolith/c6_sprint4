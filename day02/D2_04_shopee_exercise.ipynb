{
 "cells": [
  {
   "cell_type": "markdown",
   "metadata": {},
   "source": [
    "### Define a function to get the prices of an item in a Shopee search page (e.g. iPhone)\n",
    "Sum all the maximum price of each item listed on the first loaded page."
   ]
  },
  {
   "cell_type": "code",
   "execution_count": 1,
   "metadata": {},
   "outputs": [],
   "source": [
    "import requests\n",
    "from bs4 import BeautifulSoup\n",
    "\n",
    "website_url = requests.get('https://shopee.ph/search?keyword=apple&order=desc&page=0&sortBy=price',\n",
    "                           headers = {'User-Agent': 'Mozilla/5.0 (x11; Linux x86_64)'}).text\n"
   ]
  },
  {
   "cell_type": "code",
   "execution_count": 2,
   "metadata": {},
   "outputs": [],
   "source": [
    "soup = BeautifulSoup(website_url, 'html.parser') "
   ]
  },
  {
   "cell_type": "code",
   "execution_count": 3,
   "metadata": {},
   "outputs": [],
   "source": [
    "contents = soup.find_all(\"span\", {'class' : '_1xk7ak'})"
   ]
  },
  {
   "cell_type": "code",
   "execution_count": 4,
   "metadata": {},
   "outputs": [
    {
     "data": {
      "text/plain": [
       "[]"
      ]
     },
     "execution_count": 4,
     "metadata": {},
     "output_type": "execute_result"
    }
   ],
   "source": [
    "contents"
   ]
  },
  {
   "cell_type": "markdown",
   "metadata": {},
   "source": [
    "As seen above, `BeautifulSoup` cannot scrape the Shopee site, as the information is wrapped in javascript.  \n",
    "Since `BeautifulSoup` can only access static webpages, we will download the html file and load it offline."
   ]
  },
  {
   "cell_type": "code",
   "execution_count": 7,
   "metadata": {},
   "outputs": [],
   "source": [
    "with open(\"shopee_html\\oledsmarttv.html\", encoding=\"utf-8\") as page:\n",
    "    soup = BeautifulSoup(page, \"html.parser\")"
   ]
  },
  {
   "cell_type": "code",
   "execution_count": 8,
   "metadata": {},
   "outputs": [
    {
     "name": "stdout",
     "output_type": "stream",
     "text": [
      "56\n",
      "2744828\n"
     ]
    }
   ],
   "source": [
    "contents = soup.find_all(\"span\", {\"class\": \"_1xk7ak\"})\n",
    "\n",
    "print(len(contents))\n",
    "\n",
    "total = 0\n",
    "for item in contents:\n",
    "    price = int(item.get_text().replace(\",\", \"\"))\n",
    "    total = total + price\n",
    "\n",
    "print(total)"
   ]
  },
  {
   "cell_type": "code",
   "execution_count": 9,
   "metadata": {
    "scrolled": true
   },
   "outputs": [
    {
     "data": {
      "text/plain": [
       "[<span class=\"_1xk7ak\">10,990</span>,\n",
       " <span class=\"_1xk7ak\">21,728</span>,\n",
       " <span class=\"_1xk7ak\">15,799</span>,\n",
       " <span class=\"_1xk7ak\">8,899</span>,\n",
       " <span class=\"_1xk7ak\">14,990</span>,\n",
       " <span class=\"_1xk7ak\">764,239</span>,\n",
       " <span class=\"_1xk7ak\">9,000</span>,\n",
       " <span class=\"_1xk7ak\">10,000</span>,\n",
       " <span class=\"_1xk7ak\">16,000</span>,\n",
       " <span class=\"_1xk7ak\">500,500</span>,\n",
       " <span class=\"_1xk7ak\">10,000</span>,\n",
       " <span class=\"_1xk7ak\">308,200</span>,\n",
       " <span class=\"_1xk7ak\">13,000</span>,\n",
       " <span class=\"_1xk7ak\">8,000</span>,\n",
       " <span class=\"_1xk7ak\">5,500</span>,\n",
       " <span class=\"_1xk7ak\">5,000</span>,\n",
       " <span class=\"_1xk7ak\">15,700</span>,\n",
       " <span class=\"_1xk7ak\">55,500</span>,\n",
       " <span class=\"_1xk7ak\">5,500</span>,\n",
       " <span class=\"_1xk7ak\">1,022</span>,\n",
       " <span class=\"_1xk7ak\">4,000</span>,\n",
       " <span class=\"_1xk7ak\">40,000</span>,\n",
       " <span class=\"_1xk7ak\">690</span>,\n",
       " <span class=\"_1xk7ak\">708</span>,\n",
       " <span class=\"_1xk7ak\">99,990</span>,\n",
       " <span class=\"_1xk7ak\">149,990</span>,\n",
       " <span class=\"_1xk7ak\">660</span>,\n",
       " <span class=\"_1xk7ak\">299</span>,\n",
       " <span class=\"_1xk7ak\">314</span>,\n",
       " <span class=\"_1xk7ak\">41,659</span>,\n",
       " <span class=\"_1xk7ak\">736</span>,\n",
       " <span class=\"_1xk7ak\">376</span>,\n",
       " <span class=\"_1xk7ak\">395</span>,\n",
       " <span class=\"_1xk7ak\">986</span>,\n",
       " <span class=\"_1xk7ak\">119,990</span>,\n",
       " <span class=\"_1xk7ak\">179,990</span>,\n",
       " <span class=\"_1xk7ak\">193</span>,\n",
       " <span class=\"_1xk7ak\">212</span>,\n",
       " <span class=\"_1xk7ak\">140,095</span>,\n",
       " <span class=\"_1xk7ak\">234</span>,\n",
       " <span class=\"_1xk7ak\">155</span>,\n",
       " <span class=\"_1xk7ak\">631</span>,\n",
       " <span class=\"_1xk7ak\">2,065</span>,\n",
       " <span class=\"_1xk7ak\">631</span>,\n",
       " <span class=\"_1xk7ak\">110,395</span>,\n",
       " <span class=\"_1xk7ak\">774</span>,\n",
       " <span class=\"_1xk7ak\">1,177</span>,\n",
       " <span class=\"_1xk7ak\">418</span>,\n",
       " <span class=\"_1xk7ak\">314</span>,\n",
       " <span class=\"_1xk7ak\">329</span>,\n",
       " <span class=\"_1xk7ak\">659</span>,\n",
       " <span class=\"_1xk7ak\">7,999</span>,\n",
       " <span class=\"_1xk7ak\">9,499</span>,\n",
       " <span class=\"_1xk7ak\">10,670</span>,\n",
       " <span class=\"_1xk7ak\">7,729</span>,\n",
       " <span class=\"_1xk7ak\">10,299</span>]"
      ]
     },
     "execution_count": 9,
     "metadata": {},
     "output_type": "execute_result"
    }
   ],
   "source": [
    "contents"
   ]
  },
  {
   "cell_type": "markdown",
   "metadata": {},
   "source": [
    "Parsing the `div` with  class = QmqjGn"
   ]
  },
  {
   "cell_type": "code",
   "execution_count": 16,
   "metadata": {},
   "outputs": [],
   "source": [
    "def get_total_price(webpage):\n",
    "    with open(\"shopee_html\\\\\" + webpage + \".html\", encoding=\"utf-8\") as page:\n",
    "        soup = BeautifulSoup(page, \"html.parser\")\n",
    "\n",
    "    total = 0\n",
    "    items = soup.find_all(\"div\", {\"class\": \"QmqjGn\"})\n",
    "    print(len(items))\n",
    "    for item in items:\n",
    "        spans = item.find_all(name=\"span\")\n",
    "        total = total + int(spans[-1].get_text().replace(\",\", \"\"))\n",
    "    print(webpage+\":\", total, \"php\")"
   ]
  },
  {
   "cell_type": "code",
   "execution_count": 17,
   "metadata": {},
   "outputs": [
    {
     "name": "stdout",
     "output_type": "stream",
     "text": [
      "50\n",
      "oledsmarttv: 2523666 php\n",
      "50\n",
      "dentalchair: 1576860 php\n",
      "50\n",
      "xiaomitv: 3755383 php\n"
     ]
    }
   ],
   "source": [
    "webpages = [\"oledsmarttv\", \"dentalchair\", \"xiaomitv\"]\n",
    "\n",
    "for webpage in webpages:\n",
    "    get_total_price(webpage)"
   ]
  }
 ],
 "metadata": {
  "kernelspec": {
   "display_name": "Python 3",
   "language": "python",
   "name": "python3"
  },
  "language_info": {
   "codemirror_mode": {
    "name": "ipython",
    "version": 3
   },
   "file_extension": ".py",
   "mimetype": "text/x-python",
   "name": "python",
   "nbconvert_exporter": "python",
   "pygments_lexer": "ipython3",
   "version": "3.8.5"
  }
 },
 "nbformat": 4,
 "nbformat_minor": 4
}
