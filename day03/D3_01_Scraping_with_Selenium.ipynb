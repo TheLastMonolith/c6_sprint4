{
 "cells": [
  {
   "cell_type": "code",
   "execution_count": 4,
   "metadata": {},
   "outputs": [],
   "source": [
    "from selenium import webdriver\n",
    "from selenium.webdriver.common.keys import Keys\n",
    "\n",
    "import time\n",
    "\n",
    "# PATH = 'D:/Chromedriver'\n",
    "driver = webdriver.Chrome()\n",
    "\n",
    "driver.get(\"https://www.google.com\")\n",
    "\n",
    "search = driver.find_element_by_name('q')\n",
    "search.send_keys('cat')\n",
    "search.send_keys(Keys.RETURN)\n",
    "time.sleep(15)\n",
    "\n",
    "driver.quit()"
   ]
  },
  {
   "cell_type": "markdown",
   "metadata": {},
   "source": [
    "### IMDB"
   ]
  },
  {
   "cell_type": "code",
   "execution_count": 8,
   "metadata": {
    "scrolled": true
   },
   "outputs": [],
   "source": [
    "driver = webdriver.Chrome()\n",
    "driver.get(\"https://www.imdb.com/\")\n",
    "\n",
    "imdb = driver.find_element_by_id('suggestion-search')\n",
    "imdb.send_keys('aliens')\n",
    "imdb.send_keys(Keys.RETURN)\n",
    "\n",
    "time.sleep(5)\n",
    "\n",
    "imdb_page = driver.page_source\n",
    "\n",
    "driver.quit()"
   ]
  },
  {
   "cell_type": "code",
   "execution_count": 10,
   "metadata": {},
   "outputs": [],
   "source": [
    "from bs4 import BeautifulSoup\n",
    "\n",
    "soup = BeautifulSoup(imdb_page, 'lxml')"
   ]
  },
  {
   "cell_type": "code",
   "execution_count": 11,
   "metadata": {},
   "outputs": [],
   "source": [
    "contents = soup.find(\"table\", class_ = \"findList\")"
   ]
  },
  {
   "cell_type": "code",
   "execution_count": 15,
   "metadata": {
    "scrolled": true
   },
   "outputs": [],
   "source": [
    "titles = contents.find_all('a')"
   ]
  },
  {
   "cell_type": "code",
   "execution_count": 18,
   "metadata": {},
   "outputs": [],
   "source": [
    "z = []\n",
    "for title in titles:\n",
    "    z.append(title.get_text())"
   ]
  },
  {
   "cell_type": "code",
   "execution_count": 19,
   "metadata": {
    "scrolled": false
   },
   "outputs": [
    {
     "data": {
      "text/plain": [
       "['', 'Aliens', '', 'The Aliens']"
      ]
     },
     "execution_count": 19,
     "metadata": {},
     "output_type": "execute_result"
    }
   ],
   "source": [
    "z"
   ]
  },
  {
   "cell_type": "code",
   "execution_count": 50,
   "metadata": {},
   "outputs": [],
   "source": [
    "za = []\n",
    "for title in titles:\n",
    "    if title.get_text() != '':\n",
    "        za.append(title.get_text())"
   ]
  },
  {
   "cell_type": "code",
   "execution_count": 51,
   "metadata": {},
   "outputs": [
    {
     "data": {
      "text/plain": [
       "['Aliens', 'The Aliens']"
      ]
     },
     "execution_count": 51,
     "metadata": {},
     "output_type": "execute_result"
    }
   ],
   "source": [
    "za"
   ]
  },
  {
   "cell_type": "markdown",
   "metadata": {},
   "source": [
    "### Eskwelabs"
   ]
  },
  {
   "cell_type": "code",
   "execution_count": 35,
   "metadata": {},
   "outputs": [],
   "source": [
    "driver = webdriver.Chrome()\n",
    "driver.get(\"https://www.google.com\")\n",
    "\n",
    "search = driver.find_element_by_name('q')\n",
    "search.send_keys('eskwelabs')\n",
    "search.send_keys(Keys.RETURN)\n",
    "\n",
    "search_1 = driver.find_element_by_class_name('yuRUbf')\n",
    "link = search_1.find_element_by_tag_name(\"a\")\n",
    "\n",
    "link.click()\n",
    "\n",
    "\n",
    "time.sleep(5)\n",
    "\n",
    "eskwelabs_page = driver.page_source\n",
    "\n",
    "driver.quit()"
   ]
  },
  {
   "cell_type": "code",
   "execution_count": 36,
   "metadata": {},
   "outputs": [],
   "source": [
    "from bs4 import BeautifulSoup"
   ]
  },
  {
   "cell_type": "code",
   "execution_count": 39,
   "metadata": {
    "scrolled": true
   },
   "outputs": [],
   "source": [
    "soup = BeautifulSoup(eskwelabs_page, \"lxml\")\n",
    "\n",
    "articles = soup.find_all(\"article\", class_=\"community-testimonial\")"
   ]
  },
  {
   "cell_type": "code",
   "execution_count": 38,
   "metadata": {},
   "outputs": [
    {
     "data": {
      "text/plain": [
       "['It was amazing to have a place to study surrounded by people who are as passionate about data as I am.',\n",
       " 'Through Eskwelabs, I developed a data-driven mindset and a greater passion for learning.',\n",
       " 'I feel like one week in Eskwelabs is like a semester in a college; you learn so much more here.']"
      ]
     },
     "execution_count": 38,
     "metadata": {},
     "output_type": "execute_result"
    }
   ],
   "source": [
    "testimonials = []\n",
    "\n",
    "for article in articles:\n",
    "    testimonials.append(article.find(\"p\").get_text())\n",
    "    \n",
    "testimonials"
   ]
  },
  {
   "cell_type": "code",
   "execution_count": 40,
   "metadata": {},
   "outputs": [
    {
     "data": {
      "text/plain": [
       "'Through Eskwelabs, I developed a data-driven mindset and a greater passion for learning.'"
      ]
     },
     "execution_count": 40,
     "metadata": {},
     "output_type": "execute_result"
    }
   ],
   "source": [
    "testimonials[1]"
   ]
  }
 ],
 "metadata": {
  "kernelspec": {
   "display_name": "Python 3",
   "language": "python",
   "name": "python3"
  },
  "language_info": {
   "codemirror_mode": {
    "name": "ipython",
    "version": 3
   },
   "file_extension": ".py",
   "mimetype": "text/x-python",
   "name": "python",
   "nbconvert_exporter": "python",
   "pygments_lexer": "ipython3",
   "version": "3.8.5"
  }
 },
 "nbformat": 4,
 "nbformat_minor": 4
}
